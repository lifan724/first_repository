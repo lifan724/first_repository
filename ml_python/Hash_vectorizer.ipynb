{
 "cells": [
  {
   "cell_type": "code",
   "execution_count": 52,
   "metadata": {},
   "outputs": [],
   "source": [
    "from sklearn.feature_extraction.text import CountVectorizer  \n",
    "vectorizer=CountVectorizer()\n",
    "corpus=[\"I come to China to travel\", \n",
    "    \"This is a car polupar in China\",          \n",
    "    \"I love tea and Apple \",   \n",
    "    \"The work is to write some papers in science\"] \n",
    "X = vectorizer.fit_transform(corpus)"
   ]
  },
  {
   "cell_type": "code",
   "execution_count": null,
   "metadata": {
    "collapsed": true
   },
   "outputs": [],
   "source": [
    "print vectorizer.fit_transform(corpus).toarray()\n",
    "print vectorizer.get_feature_names()"
   ]
  },
  {
   "cell_type": "code",
   "execution_count": 53,
   "metadata": {
    "collapsed": true
   },
   "outputs": [],
   "source": [
    "from sklearn.feature_extraction.text import HashingVectorizer \n",
    "vectorizer2=HashingVectorizer(n_features = 6,norm = None)\n",
    "Y = vectorizer2.fit_transform(corpus)"
   ]
  },
  {
   "cell_type": "code",
   "execution_count": 59,
   "metadata": {},
   "outputs": [
    {
     "name": "stdout",
     "output_type": "stream",
     "text": [
      "[[ 0.  2. -1.  0.  1. -1.]\n",
      " [ 1.  1. -1.  0.  0. -1.]\n",
      " [ 2.  0.  0.  0.  0. -2.]\n",
      " [ 0.  4. -1.  1.  0. -1.]]\n",
      "     0    1    2    3    4    5\n",
      "0  0.0  2.0 -1.0  0.0  1.0 -1.0\n",
      "1  1.0  1.0 -1.0  0.0  0.0 -1.0\n",
      "2  2.0  0.0  0.0  0.0  0.0 -2.0\n",
      "3  0.0  4.0 -1.0  1.0  0.0 -1.0\n"
     ]
    }
   ],
   "source": [
    "from pandas import DataFrame\n",
    "print(Y.todense())\n",
    "df_Y = DataFrame(Y.toarray())\n",
    "print(df_Y)"
   ]
  },
  {
   "cell_type": "code",
   "execution_count": 3,
   "metadata": {
    "collapsed": true
   },
   "outputs": [],
   "source": [
    "import pandas as pd\n",
    "data = pd.read_csv(\"News_Final.csv\")"
   ]
  },
  {
   "cell_type": "code",
   "execution_count": 20,
   "metadata": {},
   "outputs": [
    {
     "data": {
      "text/html": [
       "<div>\n",
       "<style>\n",
       "    .dataframe thead tr:only-child th {\n",
       "        text-align: right;\n",
       "    }\n",
       "\n",
       "    .dataframe thead th {\n",
       "        text-align: left;\n",
       "    }\n",
       "\n",
       "    .dataframe tbody tr th {\n",
       "        vertical-align: top;\n",
       "    }\n",
       "</style>\n",
       "<table border=\"1\" class=\"dataframe\">\n",
       "  <thead>\n",
       "    <tr style=\"text-align: right;\">\n",
       "      <th></th>\n",
       "      <th>IDLink</th>\n",
       "      <th>Title</th>\n",
       "      <th>Headline</th>\n",
       "      <th>Source</th>\n",
       "      <th>Topic</th>\n",
       "      <th>PublishDate</th>\n",
       "      <th>SentimentTitle</th>\n",
       "      <th>SentimentHeadline</th>\n",
       "      <th>Facebook</th>\n",
       "      <th>GooglePlus</th>\n",
       "      <th>LinkedIn</th>\n",
       "    </tr>\n",
       "  </thead>\n",
       "  <tbody>\n",
       "    <tr>\n",
       "      <th>0</th>\n",
       "      <td>99248.0</td>\n",
       "      <td>Obama Lays Wreath at Arlington National Cemetery</td>\n",
       "      <td>Obama Lays Wreath at Arlington National Cemete...</td>\n",
       "      <td>USA TODAY</td>\n",
       "      <td>obama</td>\n",
       "      <td>2002-04-02 00:00:00</td>\n",
       "      <td>0.000000</td>\n",
       "      <td>-0.053300</td>\n",
       "      <td>-1</td>\n",
       "      <td>-1</td>\n",
       "      <td>-1</td>\n",
       "    </tr>\n",
       "    <tr>\n",
       "      <th>1</th>\n",
       "      <td>10423.0</td>\n",
       "      <td>A Look at the Health of the Chinese Economy</td>\n",
       "      <td>Tim Haywood, investment director business-unit...</td>\n",
       "      <td>Bloomberg</td>\n",
       "      <td>economy</td>\n",
       "      <td>2008-09-20 00:00:00</td>\n",
       "      <td>0.208333</td>\n",
       "      <td>-0.156386</td>\n",
       "      <td>-1</td>\n",
       "      <td>-1</td>\n",
       "      <td>-1</td>\n",
       "    </tr>\n",
       "    <tr>\n",
       "      <th>2</th>\n",
       "      <td>18828.0</td>\n",
       "      <td>Nouriel Roubini: Global Economy Not Back to 2008</td>\n",
       "      <td>Nouriel Roubini, NYU professor and chairman at...</td>\n",
       "      <td>Bloomberg</td>\n",
       "      <td>economy</td>\n",
       "      <td>2012-01-28 00:00:00</td>\n",
       "      <td>-0.425210</td>\n",
       "      <td>0.139754</td>\n",
       "      <td>-1</td>\n",
       "      <td>-1</td>\n",
       "      <td>-1</td>\n",
       "    </tr>\n",
       "  </tbody>\n",
       "</table>\n",
       "</div>"
      ],
      "text/plain": [
       "    IDLink                                             Title  \\\n",
       "0  99248.0  Obama Lays Wreath at Arlington National Cemetery   \n",
       "1  10423.0       A Look at the Health of the Chinese Economy   \n",
       "2  18828.0  Nouriel Roubini: Global Economy Not Back to 2008   \n",
       "\n",
       "                                            Headline     Source    Topic  \\\n",
       "0  Obama Lays Wreath at Arlington National Cemete...  USA TODAY    obama   \n",
       "1  Tim Haywood, investment director business-unit...  Bloomberg  economy   \n",
       "2  Nouriel Roubini, NYU professor and chairman at...  Bloomberg  economy   \n",
       "\n",
       "           PublishDate  SentimentTitle  SentimentHeadline  Facebook  \\\n",
       "0  2002-04-02 00:00:00        0.000000          -0.053300        -1   \n",
       "1  2008-09-20 00:00:00        0.208333          -0.156386        -1   \n",
       "2  2012-01-28 00:00:00       -0.425210           0.139754        -1   \n",
       "\n",
       "   GooglePlus  LinkedIn  \n",
       "0          -1        -1  \n",
       "1          -1        -1  \n",
       "2          -1        -1  "
      ]
     },
     "execution_count": 20,
     "metadata": {},
     "output_type": "execute_result"
    }
   ],
   "source": [
    "data.head(3)"
   ]
  },
  {
   "cell_type": "code",
   "execution_count": 67,
   "metadata": {},
   "outputs": [],
   "source": [
    "def vectorizer(df_data):\n",
    "    from sklearn.feature_extraction.text import CountVectorizer \n",
    "    vectorizer=CountVectorizer()\n",
    "    data_list = df_data.tolist()\n",
    "    data_vecr = vectorizer.fit_transform(data_list)\n",
    "    return data_vecr"
   ]
  },
  {
   "cell_type": "code",
   "execution_count": 22,
   "metadata": {},
   "outputs": [
    {
     "name": "stdout",
     "output_type": "stream",
     "text": [
      "(93239, 30278)\n"
     ]
    }
   ],
   "source": [
    "data_title_vecr = vectorizer(data[\"Title\"])\n",
    "print(data_title_vecr.shape)"
   ]
  },
  {
   "cell_type": "code",
   "execution_count": 25,
   "metadata": {},
   "outputs": [],
   "source": [
    "def hashVectr(df_data,n_fea):\n",
    "    from sklearn.feature_extraction.text import HashingVectorizer\n",
    "    hash_vecr = HashingVectorizer(n_features = n_fea,norm ='l1' )\n",
    "    data_hash_vecr = hash_vecr.fit_transform(df_data)\n",
    "    return data_hash_vecr"
   ]
  },
  {
   "cell_type": "code",
   "execution_count": 72,
   "metadata": {},
   "outputs": [
    {
     "name": "stdout",
     "output_type": "stream",
     "text": [
      "(93239, 50)\n"
     ]
    }
   ],
   "source": [
    "data_title_hash = hashVectr(data[\"Title\"],50)\n",
    "print(data_title_hash.shape)"
   ]
  },
  {
   "cell_type": "code",
   "execution_count": 73,
   "metadata": {},
   "outputs": [],
   "source": [
    "data_Headline = data[\"Headline\"].fillna(\"NULL\")\n",
    "data_Headline_vecr = vectorizer(data_Headline)\n",
    "print(data_title_vecr.shape)\n",
    "data_Headline_hash = hashVectr(data_Headline,50)"
   ]
  },
  {
   "cell_type": "code",
   "execution_count": 74,
   "metadata": {},
   "outputs": [],
   "source": [
    "data_Source = data[\"Source\"].fillna(\"NULL\")\n",
    "# data_Source_vecr = vectorizer(data_Source)\n",
    "#print(data_Source_vecr.shape)\n",
    "data_Source_hash = hashVectr(data_Source,15)"
   ]
  },
  {
   "cell_type": "code",
   "execution_count": 75,
   "metadata": {},
   "outputs": [
    {
     "name": "stdout",
     "output_type": "stream",
     "text": [
      "(93239, 4)\n"
     ]
    }
   ],
   "source": [
    "data_Topic = data[\"Topic\"].fillna(\"NULL\")\n",
    "data_Topic_vecr = vectorizer(data_Topic)\n",
    "print(data_Topic_vecr.shape)\n",
    "# data_Source_hash = hashVectr(data_Source,50)"
   ]
  },
  {
   "cell_type": "code",
   "execution_count": 77,
   "metadata": {},
   "outputs": [],
   "source": [
    "from pandas import DataFrame\n",
    "df_title_hash = DataFrame(data_title_hash.toarray())\n",
    "df_Headline_hash = DataFrame(data_Headline_hash.toarray())\n",
    "df_Source_hash = DataFrame(data_Source_hash.toarray())\n",
    "df_Topic_vecr = DataFrame(data_Topic_vecr.toarray())\n",
    "# print(type(df_title_hash))\n",
    "data_hash = pd.concat([df_title_hash,df_Headline_hash,df_Source_hash,df_Topic_vecr],axis=1)\n",
    "# print(data_hash)"
   ]
  },
  {
   "cell_type": "code",
   "execution_count": 78,
   "metadata": {
    "collapsed": true
   },
   "outputs": [],
   "source": [
    "data_hash.to_csv(\"Hash_News_Final.csv\",index=False,sep=',')"
   ]
  },
  {
   "cell_type": "code",
   "execution_count": null,
   "metadata": {
    "collapsed": true
   },
   "outputs": [],
   "source": []
  }
 ],
 "metadata": {
  "kernelspec": {
   "display_name": "Python 3",
   "language": "python",
   "name": "python3"
  },
  "language_info": {
   "codemirror_mode": {
    "name": "ipython",
    "version": 3
   },
   "file_extension": ".py",
   "mimetype": "text/x-python",
   "name": "python",
   "nbconvert_exporter": "python",
   "pygments_lexer": "ipython3",
   "version": "3.6.3"
  }
 },
 "nbformat": 4,
 "nbformat_minor": 2
}
